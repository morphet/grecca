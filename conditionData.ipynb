{
 "metadata": {
  "name": "conditionData"
 },
 "nbformat": 3,
 "nbformat_minor": 0,
 "worksheets": [
  {
   "cells": [
    {
     "cell_type": "code",
     "collapsed": false,
     "input": [
      "import pandas as pd\n",
      "import numpy as np\n",
      "import os\n",
      "import datetime"
     ],
     "language": "python",
     "metadata": {},
     "outputs": [],
     "prompt_number": 1
    },
    {
     "cell_type": "code",
     "collapsed": false,
     "input": [
      "def timestamp(s):\n",
      "    d,t=s.split(' ')\n",
      "    return datetime.datetime(int(d[-4:]),int(d[:2]),int(d[3:5]),int(t)/100,int(t)%100)\n",
      "def getdate(dt):\n",
      "    return dt.date()\n",
      "def gettime(dt):\n",
      "    return dt.time()"
     ],
     "language": "python",
     "metadata": {},
     "outputs": [],
     "prompt_number": 15
    },
    {
     "cell_type": "code",
     "collapsed": false,
     "input": [
      "a=pd.read_csv('/home/alt/pitrading/djAA.txt',\n",
      "    parse_dates={'Timestamp':['Date','Time']},\n",
      "    keep_date_col=True)\n",
      "a['Timestamp']=a['Timestamp'].apply(timestamp)\n",
      "a['Time']=a.Timestamp.apply(gettime)\n",
      "a['Date']=a.Timestamp.apply(getdate)\n",
      "a.set_index('Timestamp',inplace=True)"
     ],
     "language": "python",
     "metadata": {},
     "outputs": [],
     "prompt_number": 19
    },
    {
     "cell_type": "code",
     "collapsed": false,
     "input": [
      "\n",
      "a[:5].index"
     ],
     "language": "python",
     "metadata": {},
     "outputs": [
      {
       "output_type": "pyout",
       "prompt_number": 27,
       "text": [
        "<class 'pandas.tseries.index.DatetimeIndex'>\n",
        "[1991-01-02 09:31:00, ..., 1991-01-02 09:41:00]\n",
        "Length: 5, Freq: None, Timezone: None"
       ]
      }
     ],
     "prompt_number": 27
    },
    {
     "cell_type": "code",
     "collapsed": false,
     "input": [
      "a['Time']=a.Timestamp.apply(gettime)"
     ],
     "language": "python",
     "metadata": {},
     "outputs": [
      {
       "output_type": "pyout",
       "prompt_number": 18,
       "text": [
        "0     09:31:00\n",
        "1     09:32:00\n",
        "2     09:35:00\n",
        "3     09:38:00\n",
        "4     09:41:00\n",
        "5     09:56:00\n",
        "6     09:57:00\n",
        "7     09:58:00\n",
        "8     10:03:00\n",
        "9     10:06:00\n",
        "10    10:09:00\n",
        "11    10:10:00\n",
        "12    10:16:00\n",
        "13    10:17:00\n",
        "14    10:21:00\n",
        "...\n",
        "1475487    15:46:00\n",
        "1475488    15:47:00\n",
        "1475489    15:48:00\n",
        "1475490    15:49:00\n",
        "1475491    15:50:00\n",
        "1475492    15:51:00\n",
        "1475493    15:52:00\n",
        "1475494    15:53:00\n",
        "1475495    15:54:00\n",
        "1475496    15:55:00\n",
        "1475497    15:56:00\n",
        "1475498    15:57:00\n",
        "1475499    15:58:00\n",
        "1475500    15:59:00\n",
        "1475501    16:00:00\n",
        "Name: Timestamp, Length: 1475502, dtype: object"
       ]
      }
     ],
     "prompt_number": 18
    },
    {
     "cell_type": "code",
     "collapsed": false,
     "input": [
      "a['Timestamp'][5].time()"
     ],
     "language": "python",
     "metadata": {},
     "outputs": [
      {
       "output_type": "pyout",
       "prompt_number": 14,
       "text": [
        "datetime.time(9, 56)"
       ]
      }
     ],
     "prompt_number": 14
    },
    {
     "cell_type": "code",
     "collapsed": false,
     "input": [],
     "language": "python",
     "metadata": {},
     "outputs": []
    }
   ],
   "metadata": {}
  }
 ]
}